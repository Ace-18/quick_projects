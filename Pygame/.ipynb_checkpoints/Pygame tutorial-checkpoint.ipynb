{
 "cells": [
  {
   "cell_type": "code",
   "execution_count": 3,
   "id": "db36ee09",
   "metadata": {
    "ExecuteTime": {
     "end_time": "2022-06-04T19:48:52.385542Z",
     "start_time": "2022-06-04T19:48:52.377551Z"
    }
   },
   "outputs": [],
   "source": [
    "from random import randint"
   ]
  },
  {
   "cell_type": "code",
   "execution_count": 62,
   "id": "94bf4119",
   "metadata": {
    "ExecuteTime": {
     "end_time": "2022-06-05T18:28:02.174555Z",
     "start_time": "2022-06-05T18:27:32.505970Z"
    }
   },
   "outputs": [],
   "source": [
    "import pygame\n",
    "pygame.init()\n",
    "\n",
    "win=pygame.display.set_mode([500,500]) \n",
    "\n",
    "pygame.display.set_caption('Game')\n",
    "\n",
    "width=40\n",
    "height=60\n",
    "\n",
    "vel= 5\n",
    "\n",
    "x=randint(0+vel,win.get_width()-width)\n",
    "y=randint(0+vel,win.get_height()-height)\n",
    "\n",
    "isJump=False\n",
    "jump=10\n",
    "\n",
    "run =True\n",
    "\n",
    "while run:\n",
    "    pygame.time.delay(100)\n",
    "    \n",
    "    for event in pygame.event.get():\n",
    "        if event.type == pygame.QUIT:\n",
    "            run=False\n",
    "    \n",
    "    \n",
    "    keys=pygame.key.get_pressed()\n",
    "    \n",
    "    if keys[pygame.K_LEFT]:\n",
    "        if x>0:\n",
    "            x-= vel\n",
    "        else:\n",
    "            run=False\n",
    "            \n",
    "    if keys[pygame.K_RIGHT]:    \n",
    "        if x+width<win.get_width():\n",
    "            x+=vel\n",
    "    \n",
    "    if not(isJump):\n",
    "        if keys[pygame.K_UP]:\n",
    "            if y>0:\n",
    "                y-=vel\n",
    "\n",
    "        if keys[pygame.K_DOWN]:\n",
    "            if y+height<win.get_height():\n",
    "                y+=vel\n",
    "\n",
    "        if keys[pygame.K_SPACE]:\n",
    "            isJump=True\n",
    "    \n",
    "    else:\n",
    "        \n",
    "        if jump>= -10:\n",
    "            neg=1\n",
    "            \n",
    "            if jump<0:\n",
    "                neg=-1\n",
    "\n",
    "            y-=(jump**2)*0.5*neg\n",
    "                    \n",
    "            if y<=0:\n",
    "                jump*=-1\n",
    "                jump+=1\n",
    "                    \n",
    "            jump-=1\n",
    "            \n",
    "        else:\n",
    "            isJump=False\n",
    "            jump=10\n",
    "            down=False\n",
    "            \n",
    "            \n",
    "    win.fill((0,0,0))\n",
    "    pygame.draw.rect(win,(255,0,0),(x,y,width,height))\n",
    "    \n",
    "    pygame.display.update()\n",
    "            \n",
    "            \n",
    "            \n",
    "            \n",
    "            \n",
    "pygame.quit()        "
   ]
  },
  {
   "cell_type": "code",
   "execution_count": null,
   "id": "ee4b96ad",
   "metadata": {},
   "outputs": [],
   "source": []
  }
 ],
 "metadata": {
  "kernelspec": {
   "display_name": "Python 3 (ipykernel)",
   "language": "python",
   "name": "python3"
  },
  "language_info": {
   "codemirror_mode": {
    "name": "ipython",
    "version": 3
   },
   "file_extension": ".py",
   "mimetype": "text/x-python",
   "name": "python",
   "nbconvert_exporter": "python",
   "pygments_lexer": "ipython3",
   "version": "3.9.6"
  }
 },
 "nbformat": 4,
 "nbformat_minor": 5
}
